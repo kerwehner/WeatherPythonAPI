{
 "cells": [
  {
   "cell_type": "markdown",
   "metadata": {},
   "source": [
    "# VacationPy\n",
    "----\n",
    "\n",
    "#### Note\n",
    "* Keep an eye on your API usage. Use https://developers.google.com/maps/reporting/gmp-reporting as reference for how to monitor your usage and billing.\n",
    "\n",
    "* Instructions have been included for each segment. You do not have to follow them exactly, but they are included to help you think through the steps."
   ]
  },
  {
   "cell_type": "code",
   "execution_count": 1,
   "metadata": {},
   "outputs": [],
   "source": [
    "# Dependencies and Setup\n",
    "import matplotlib.pyplot as plt\n",
    "import pandas as pd\n",
    "import numpy as np\n",
    "import requests\n",
    "import gmaps\n",
    "import os\n",
    "import time\n",
    "\n",
    "# Import API key\n",
    "from api_keys import g_key"
   ]
  },
  {
   "cell_type": "markdown",
   "metadata": {},
   "source": [
    "### Store Part I results into DataFrame\n",
    "* Load the csv exported in Part I to a DataFrame"
   ]
  },
  {
   "cell_type": "code",
   "execution_count": 2,
   "metadata": {},
   "outputs": [
    {
     "data": {
      "text/html": [
       "<div>\n",
       "<style scoped>\n",
       "    .dataframe tbody tr th:only-of-type {\n",
       "        vertical-align: middle;\n",
       "    }\n",
       "\n",
       "    .dataframe tbody tr th {\n",
       "        vertical-align: top;\n",
       "    }\n",
       "\n",
       "    .dataframe thead th {\n",
       "        text-align: right;\n",
       "    }\n",
       "</style>\n",
       "<table border=\"1\" class=\"dataframe\">\n",
       "  <thead>\n",
       "    <tr style=\"text-align: right;\">\n",
       "      <th></th>\n",
       "      <th>City_ID</th>\n",
       "      <th>City</th>\n",
       "      <th>Lat</th>\n",
       "      <th>Lng</th>\n",
       "      <th>Max Temp</th>\n",
       "      <th>Humidity</th>\n",
       "      <th>Cloudiness</th>\n",
       "      <th>Wind Speed</th>\n",
       "      <th>Country</th>\n",
       "      <th>Date</th>\n",
       "    </tr>\n",
       "  </thead>\n",
       "  <tbody>\n",
       "    <tr>\n",
       "      <th>0</th>\n",
       "      <td>0</td>\n",
       "      <td>mar del plata</td>\n",
       "      <td>-38.00</td>\n",
       "      <td>-57.56</td>\n",
       "      <td>75.20</td>\n",
       "      <td>64</td>\n",
       "      <td>40</td>\n",
       "      <td>18.34</td>\n",
       "      <td>AR</td>\n",
       "      <td>1607447877</td>\n",
       "    </tr>\n",
       "    <tr>\n",
       "      <th>1</th>\n",
       "      <td>1</td>\n",
       "      <td>bredasdorp</td>\n",
       "      <td>-34.53</td>\n",
       "      <td>20.04</td>\n",
       "      <td>68.00</td>\n",
       "      <td>77</td>\n",
       "      <td>16</td>\n",
       "      <td>14.99</td>\n",
       "      <td>ZA</td>\n",
       "      <td>1607448099</td>\n",
       "    </tr>\n",
       "    <tr>\n",
       "      <th>2</th>\n",
       "      <td>2</td>\n",
       "      <td>anadyr</td>\n",
       "      <td>64.75</td>\n",
       "      <td>177.48</td>\n",
       "      <td>3.20</td>\n",
       "      <td>91</td>\n",
       "      <td>40</td>\n",
       "      <td>4.47</td>\n",
       "      <td>RU</td>\n",
       "      <td>1607448099</td>\n",
       "    </tr>\n",
       "    <tr>\n",
       "      <th>3</th>\n",
       "      <td>3</td>\n",
       "      <td>fortuna foothills</td>\n",
       "      <td>32.66</td>\n",
       "      <td>-114.41</td>\n",
       "      <td>71.01</td>\n",
       "      <td>10</td>\n",
       "      <td>1</td>\n",
       "      <td>8.05</td>\n",
       "      <td>US</td>\n",
       "      <td>1607448099</td>\n",
       "    </tr>\n",
       "    <tr>\n",
       "      <th>4</th>\n",
       "      <td>4</td>\n",
       "      <td>padang</td>\n",
       "      <td>-0.95</td>\n",
       "      <td>100.35</td>\n",
       "      <td>77.83</td>\n",
       "      <td>79</td>\n",
       "      <td>100</td>\n",
       "      <td>3.85</td>\n",
       "      <td>ID</td>\n",
       "      <td>1607448099</td>\n",
       "    </tr>\n",
       "  </tbody>\n",
       "</table>\n",
       "</div>"
      ],
      "text/plain": [
       "   City_ID               City    Lat     Lng  Max Temp  Humidity  Cloudiness  \\\n",
       "0        0      mar del plata -38.00  -57.56     75.20        64          40   \n",
       "1        1         bredasdorp -34.53   20.04     68.00        77          16   \n",
       "2        2             anadyr  64.75  177.48      3.20        91          40   \n",
       "3        3  fortuna foothills  32.66 -114.41     71.01        10           1   \n",
       "4        4             padang  -0.95  100.35     77.83        79         100   \n",
       "\n",
       "   Wind Speed Country        Date  \n",
       "0       18.34      AR  1607447877  \n",
       "1       14.99      ZA  1607448099  \n",
       "2        4.47      RU  1607448099  \n",
       "3        8.05      US  1607448099  \n",
       "4        3.85      ID  1607448099  "
      ]
     },
     "execution_count": 2,
     "metadata": {},
     "output_type": "execute_result"
    }
   ],
   "source": [
    "city_data_df = pd.read_csv(\"output_data/cities.csv\")\n",
    "city_data_df.head()"
   ]
  },
  {
   "cell_type": "markdown",
   "metadata": {},
   "source": [
    "### Humidity Heatmap\n",
    "* Configure gmaps.\n",
    "* Use the Lat and Lng as locations and Humidity as the weight.\n",
    "* Add Heatmap layer to map."
   ]
  },
  {
   "cell_type": "code",
   "execution_count": 3,
   "metadata": {},
   "outputs": [],
   "source": [
    "gmaps.configure(api_key = g_key)"
   ]
  },
  {
   "cell_type": "code",
   "execution_count": 4,
   "metadata": {},
   "outputs": [
    {
     "data": {
      "application/vnd.jupyter.widget-view+json": {
       "model_id": "2e5919118c824b2bbf1f53a1ebf73a9b",
       "version_major": 2,
       "version_minor": 0
      },
      "text/plain": [
       "Figure(layout=FigureLayout(height='420px'))"
      ]
     },
     "metadata": {},
     "output_type": "display_data"
    }
   ],
   "source": [
    "locations = city_data_df[[\"Lat\",\"Lng\"]]\n",
    "humidity = city_data_df[\"Humidity\"]\n",
    "fig = gmaps.figure()\n",
    "heat_layer = gmaps.heatmap_layer(locations,weights=humidity,dissipating=False,max_intensity=300,point_radius=5)\n",
    "fig.add_layer(heat_layer)\n",
    "fig"
   ]
  },
  {
   "cell_type": "markdown",
   "metadata": {},
   "source": [
    "### Create new DataFrame fitting weather criteria\n",
    "* Narrow down the cities to fit weather conditions.\n",
    "* Drop any rows will null values."
   ]
  },
  {
   "cell_type": "code",
   "execution_count": 5,
   "metadata": {},
   "outputs": [
    {
     "data": {
      "text/html": [
       "<div>\n",
       "<style scoped>\n",
       "    .dataframe tbody tr th:only-of-type {\n",
       "        vertical-align: middle;\n",
       "    }\n",
       "\n",
       "    .dataframe tbody tr th {\n",
       "        vertical-align: top;\n",
       "    }\n",
       "\n",
       "    .dataframe thead th {\n",
       "        text-align: right;\n",
       "    }\n",
       "</style>\n",
       "<table border=\"1\" class=\"dataframe\">\n",
       "  <thead>\n",
       "    <tr style=\"text-align: right;\">\n",
       "      <th></th>\n",
       "      <th>City_ID</th>\n",
       "      <th>City</th>\n",
       "      <th>Lat</th>\n",
       "      <th>Lng</th>\n",
       "      <th>Max Temp</th>\n",
       "      <th>Humidity</th>\n",
       "      <th>Cloudiness</th>\n",
       "      <th>Wind Speed</th>\n",
       "      <th>Country</th>\n",
       "      <th>Date</th>\n",
       "    </tr>\n",
       "  </thead>\n",
       "  <tbody>\n",
       "    <tr>\n",
       "      <th>239</th>\n",
       "      <td>239</td>\n",
       "      <td>salalah</td>\n",
       "      <td>17.02</td>\n",
       "      <td>54.09</td>\n",
       "      <td>78.80</td>\n",
       "      <td>74</td>\n",
       "      <td>0</td>\n",
       "      <td>2.24</td>\n",
       "      <td>OM</td>\n",
       "      <td>1607448133</td>\n",
       "    </tr>\n",
       "    <tr>\n",
       "      <th>341</th>\n",
       "      <td>341</td>\n",
       "      <td>poum</td>\n",
       "      <td>-20.23</td>\n",
       "      <td>164.02</td>\n",
       "      <td>79.77</td>\n",
       "      <td>79</td>\n",
       "      <td>0</td>\n",
       "      <td>9.89</td>\n",
       "      <td>NC</td>\n",
       "      <td>1607448148</td>\n",
       "    </tr>\n",
       "    <tr>\n",
       "      <th>463</th>\n",
       "      <td>463</td>\n",
       "      <td>cidreira</td>\n",
       "      <td>-30.18</td>\n",
       "      <td>-50.21</td>\n",
       "      <td>78.57</td>\n",
       "      <td>61</td>\n",
       "      <td>0</td>\n",
       "      <td>9.71</td>\n",
       "      <td>BR</td>\n",
       "      <td>1607448166</td>\n",
       "    </tr>\n",
       "    <tr>\n",
       "      <th>531</th>\n",
       "      <td>531</td>\n",
       "      <td>yanam</td>\n",
       "      <td>16.73</td>\n",
       "      <td>82.22</td>\n",
       "      <td>75.20</td>\n",
       "      <td>83</td>\n",
       "      <td>0</td>\n",
       "      <td>5.82</td>\n",
       "      <td>IN</td>\n",
       "      <td>1607448135</td>\n",
       "    </tr>\n",
       "  </tbody>\n",
       "</table>\n",
       "</div>"
      ],
      "text/plain": [
       "     City_ID      City    Lat     Lng  Max Temp  Humidity  Cloudiness  \\\n",
       "239      239   salalah  17.02   54.09     78.80        74           0   \n",
       "341      341      poum -20.23  164.02     79.77        79           0   \n",
       "463      463  cidreira -30.18  -50.21     78.57        61           0   \n",
       "531      531     yanam  16.73   82.22     75.20        83           0   \n",
       "\n",
       "     Wind Speed Country        Date  \n",
       "239        2.24      OM  1607448133  \n",
       "341        9.89      NC  1607448148  \n",
       "463        9.71      BR  1607448166  \n",
       "531        5.82      IN  1607448135  "
      ]
     },
     "execution_count": 5,
     "metadata": {},
     "output_type": "execute_result"
    }
   ],
   "source": [
    "narrow_city_df = city_data_df.loc[(city_data_df[\"Max Temp\"] < 80) & (city_data_df[\"Max Temp\"] > 70) \\\n",
    "                                  & (city_data_df[\"Wind Speed\"] < 10) \\\n",
    "                                  & (city_data_df[\"Cloudiness\"]==0)].dropna()\n",
    "narrow_city_df"
   ]
  },
  {
   "cell_type": "markdown",
   "metadata": {},
   "source": [
    "### Hotel Map\n",
    "* Store into variable named `hotel_df`.\n",
    "* Add a \"Hotel Name\" column to the DataFrame.\n",
    "* Set parameters to search for hotels with 5000 meters.\n",
    "* Hit the Google Places API for each city's coordinates.\n",
    "* Store the first Hotel result into the DataFrame.\n",
    "* Plot markers on top of the heatmap."
   ]
  },
  {
   "cell_type": "code",
   "execution_count": 6,
   "metadata": {},
   "outputs": [
    {
     "data": {
      "text/html": [
       "<div>\n",
       "<style scoped>\n",
       "    .dataframe tbody tr th:only-of-type {\n",
       "        vertical-align: middle;\n",
       "    }\n",
       "\n",
       "    .dataframe tbody tr th {\n",
       "        vertical-align: top;\n",
       "    }\n",
       "\n",
       "    .dataframe thead th {\n",
       "        text-align: right;\n",
       "    }\n",
       "</style>\n",
       "<table border=\"1\" class=\"dataframe\">\n",
       "  <thead>\n",
       "    <tr style=\"text-align: right;\">\n",
       "      <th></th>\n",
       "      <th>City</th>\n",
       "      <th>Country</th>\n",
       "      <th>Lat</th>\n",
       "      <th>Lng</th>\n",
       "      <th>Hotel Name</th>\n",
       "    </tr>\n",
       "  </thead>\n",
       "  <tbody>\n",
       "    <tr>\n",
       "      <th>239</th>\n",
       "      <td>salalah</td>\n",
       "      <td>OM</td>\n",
       "      <td>17.02</td>\n",
       "      <td>54.09</td>\n",
       "      <td></td>\n",
       "    </tr>\n",
       "    <tr>\n",
       "      <th>341</th>\n",
       "      <td>poum</td>\n",
       "      <td>NC</td>\n",
       "      <td>-20.23</td>\n",
       "      <td>164.02</td>\n",
       "      <td></td>\n",
       "    </tr>\n",
       "    <tr>\n",
       "      <th>463</th>\n",
       "      <td>cidreira</td>\n",
       "      <td>BR</td>\n",
       "      <td>-30.18</td>\n",
       "      <td>-50.21</td>\n",
       "      <td></td>\n",
       "    </tr>\n",
       "    <tr>\n",
       "      <th>531</th>\n",
       "      <td>yanam</td>\n",
       "      <td>IN</td>\n",
       "      <td>16.73</td>\n",
       "      <td>82.22</td>\n",
       "      <td></td>\n",
       "    </tr>\n",
       "  </tbody>\n",
       "</table>\n",
       "</div>"
      ],
      "text/plain": [
       "         City Country    Lat     Lng Hotel Name\n",
       "239   salalah      OM  17.02   54.09           \n",
       "341      poum      NC -20.23  164.02           \n",
       "463  cidreira      BR -30.18  -50.21           \n",
       "531     yanam      IN  16.73   82.22           "
      ]
     },
     "execution_count": 6,
     "metadata": {},
     "output_type": "execute_result"
    }
   ],
   "source": [
    "# Create a hotel_df\n",
    "hotel_df = narrow_city_df.loc[:,[\"City\",\"Country\", \"Lat\", \"Lng\"]]\n",
    "\n",
    "# Add a \"Hotel Name\" column to the DataFrame.\n",
    "hotel_df[\"Hotel Name\"] = \"\"\n",
    "\n",
    "# Display the result\n",
    "hotel_df"
   ]
  },
  {
   "cell_type": "code",
   "execution_count": 7,
   "metadata": {},
   "outputs": [],
   "source": [
    "base_url = \"https://maps.googleapis.com/maps/api/place/nearbysearch/json\"\n",
    "\n",
    "params = {\"type\" : \"hotel\",\n",
    "          \"keyword\" : \"hotel\",\n",
    "          \"radius\" : 5000,\n",
    "          \"key\" : g_key}"
   ]
  },
  {
   "cell_type": "code",
   "execution_count": 8,
   "metadata": {},
   "outputs": [
    {
     "name": "stdout",
     "output_type": "stream",
     "text": [
      "Retrieving Results for Index 239: salalah.\n",
      "Closest hotel in salalah is Al Dyafa Hotel Suites.\n",
      "------------\n",
      "Retrieving Results for Index 341: poum.\n",
      "Missing field/result... skipping.\n",
      "------------\n",
      "Retrieving Results for Index 463: cidreira.\n",
      "Closest hotel in cidreira is Hotel Castelo.\n",
      "------------\n",
      "Retrieving Results for Index 531: yanam.\n",
      "Closest hotel in yanam is The Regency Hotel.\n",
      "------------\n",
      "-------End of Search-------\n"
     ]
    }
   ],
   "source": [
    "for index, row in hotel_df.iterrows():\n",
    "    # get city name, lat, lng from df\n",
    "    lat = row[\"Lat\"]\n",
    "    lng = row[\"Lng\"]\n",
    "    city_name = row[\"City\"]\n",
    "    \n",
    "    # add keyword to params dict\n",
    "    params[\"location\"] = f\"{lat},{lng}\"\n",
    "\n",
    "    # assemble url and make API request\n",
    "    print(f\"Retrieving Results for Index {index}: {city_name}.\")\n",
    "    response = requests.get(base_url, params=params).json()\n",
    "    \n",
    "    # extract results\n",
    "    results = response['results']\n",
    "    \n",
    "    # save the hotel name to dataframe\n",
    "    try:\n",
    "        print(f\"Closest hotel in {city_name} is {results[0]['name']}.\")\n",
    "        hotel_df.loc[index, \"Hotel Name\"] = results[0]['name']\n",
    "\n",
    "    # if there is no hotel available, show missing field\n",
    "    except (KeyError, IndexError):\n",
    "        print(\"Missing field/result... skipping.\")\n",
    "        \n",
    "    print(\"------------\")\n",
    "    \n",
    "    # Wait 1 sec to make another api request to avoid SSL Error\n",
    "    time.sleep(1)\n",
    "\n",
    "# Print end of search once searching is completed\n",
    "print(\"-------End of Search-------\")"
   ]
  },
  {
   "cell_type": "code",
   "execution_count": 9,
   "metadata": {},
   "outputs": [
    {
     "data": {
      "text/html": [
       "<div>\n",
       "<style scoped>\n",
       "    .dataframe tbody tr th:only-of-type {\n",
       "        vertical-align: middle;\n",
       "    }\n",
       "\n",
       "    .dataframe tbody tr th {\n",
       "        vertical-align: top;\n",
       "    }\n",
       "\n",
       "    .dataframe thead th {\n",
       "        text-align: right;\n",
       "    }\n",
       "</style>\n",
       "<table border=\"1\" class=\"dataframe\">\n",
       "  <thead>\n",
       "    <tr style=\"text-align: right;\">\n",
       "      <th></th>\n",
       "      <th>City</th>\n",
       "      <th>Country</th>\n",
       "      <th>Lat</th>\n",
       "      <th>Lng</th>\n",
       "      <th>Hotel Name</th>\n",
       "    </tr>\n",
       "  </thead>\n",
       "  <tbody>\n",
       "    <tr>\n",
       "      <th>239</th>\n",
       "      <td>salalah</td>\n",
       "      <td>OM</td>\n",
       "      <td>17.02</td>\n",
       "      <td>54.09</td>\n",
       "      <td>Al Dyafa Hotel Suites</td>\n",
       "    </tr>\n",
       "    <tr>\n",
       "      <th>341</th>\n",
       "      <td>poum</td>\n",
       "      <td>NC</td>\n",
       "      <td>-20.23</td>\n",
       "      <td>164.02</td>\n",
       "      <td></td>\n",
       "    </tr>\n",
       "    <tr>\n",
       "      <th>463</th>\n",
       "      <td>cidreira</td>\n",
       "      <td>BR</td>\n",
       "      <td>-30.18</td>\n",
       "      <td>-50.21</td>\n",
       "      <td>Hotel Castelo</td>\n",
       "    </tr>\n",
       "    <tr>\n",
       "      <th>531</th>\n",
       "      <td>yanam</td>\n",
       "      <td>IN</td>\n",
       "      <td>16.73</td>\n",
       "      <td>82.22</td>\n",
       "      <td>The Regency Hotel</td>\n",
       "    </tr>\n",
       "  </tbody>\n",
       "</table>\n",
       "</div>"
      ],
      "text/plain": [
       "         City Country    Lat     Lng             Hotel Name\n",
       "239   salalah      OM  17.02   54.09  Al Dyafa Hotel Suites\n",
       "341      poum      NC -20.23  164.02                       \n",
       "463  cidreira      BR -30.18  -50.21          Hotel Castelo\n",
       "531     yanam      IN  16.73   82.22      The Regency Hotel"
      ]
     },
     "execution_count": 9,
     "metadata": {},
     "output_type": "execute_result"
    }
   ],
   "source": [
    "hotel_df"
   ]
  },
  {
   "cell_type": "code",
   "execution_count": 10,
   "metadata": {},
   "outputs": [],
   "source": [
    "# NOTE: Do not change any of the code in this cell\n",
    "\n",
    "# Using the template add the hotel marks to the heatmap\n",
    "info_box_template = \"\"\"\n",
    "<dl>\n",
    "<dt>Name</dt><dd>{Hotel Name}</dd>\n",
    "<dt>City</dt><dd>{City}</dd>\n",
    "<dt>Country</dt><dd>{Country}</dd>\n",
    "</dl>\n",
    "\"\"\"\n",
    "# Store the DataFrame Row\n",
    "# NOTE: be sure to update with your DataFrame name\n",
    "hotel_info = [info_box_template.format(**row) for index, row in hotel_df.iterrows()]\n",
    "locations = hotel_df[[\"Lat\", \"Lng\"]]"
   ]
  },
  {
   "cell_type": "code",
   "execution_count": 11,
   "metadata": {},
   "outputs": [
    {
     "data": {
      "application/vnd.jupyter.widget-view+json": {
       "model_id": "2e5919118c824b2bbf1f53a1ebf73a9b",
       "version_major": 2,
       "version_minor": 0
      },
      "text/plain": [
       "Figure(layout=FigureLayout(height='420px'))"
      ]
     },
     "metadata": {},
     "output_type": "display_data"
    }
   ],
   "source": [
    "# Add marker layer ontop of heat map\n",
    "\n",
    "markers = gmaps.marker_layer(locations, info_box_content = hotel_info)\n",
    "\n",
    "# Add the layer to the map\n",
    "fig.add_layer(markers)\n",
    "\n",
    "\n",
    "# Display figure\n",
    "\n",
    "fig"
   ]
  },
  {
   "cell_type": "code",
   "execution_count": null,
   "metadata": {},
   "outputs": [],
   "source": []
  }
 ],
 "metadata": {
  "kernelspec": {
   "display_name": "PythonData",
   "language": "python",
   "name": "pythondata"
  },
  "language_info": {
   "codemirror_mode": {
    "name": "ipython",
    "version": 3
   },
   "file_extension": ".py",
   "mimetype": "text/x-python",
   "name": "python",
   "nbconvert_exporter": "python",
   "pygments_lexer": "ipython3",
   "version": "3.8.3"
  },
  "latex_envs": {
   "LaTeX_envs_menu_present": true,
   "autoclose": false,
   "autocomplete": true,
   "bibliofile": "biblio.bib",
   "cite_by": "apalike",
   "current_citInitial": 1,
   "eqLabelWithNumbers": true,
   "eqNumInitial": 1,
   "hotkeys": {
    "equation": "Ctrl-E",
    "itemize": "Ctrl-I"
   },
   "labels_anchors": false,
   "latex_user_defs": false,
   "report_style_numbering": false,
   "user_envs_cfg": false
  }
 },
 "nbformat": 4,
 "nbformat_minor": 4
}
